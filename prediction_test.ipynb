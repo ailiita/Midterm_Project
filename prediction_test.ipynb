{
 "cells": [
  {
   "cell_type": "code",
   "execution_count": 1,
   "id": "c706f9ab-9bac-4747-aa95-d608967f41d7",
   "metadata": {},
   "outputs": [],
   "source": [
    "import requests"
   ]
  },
  {
   "cell_type": "code",
   "execution_count": 2,
   "id": "3aa05698-0aa1-420a-9dcf-0b90b47f3b40",
   "metadata": {},
   "outputs": [],
   "source": [
    "url = 'http://localhost:9696/predict'"
   ]
  },
  {
   "cell_type": "code",
   "execution_count": 3,
   "id": "00763407-068a-4f8a-927e-eedb0e3a09e6",
   "metadata": {},
   "outputs": [
    {
     "name": "stdout",
     "output_type": "stream",
     "text": [
      "{'Air Quality': 'Unhealthy for SG', 'Predicted_label': 2}\n"
     ]
    }
   ],
   "source": [
    "data = {\"year\": 2016.0, \"month\": 5.0, \"day\": 15.0, \"hour\": 6.0, \n",
    "        \"temp\": 11.5, \"pres\": 1010.5, \"wd\": 180.0, \"wspm\": 0.5, \n",
    "        \"pm25_avg\": 52.5, \"o3_avg\": 8.62}\n",
    "\n",
    "response = requests.post(url, json=data).json()\n",
    "print(response)\n"
   ]
  },
  {
   "cell_type": "code",
   "execution_count": null,
   "id": "604b3ede-491e-4b38-ae06-ffc7c4a2414c",
   "metadata": {},
   "outputs": [],
   "source": []
  }
 ],
 "metadata": {
  "kernelspec": {
   "display_name": "Python 3 (ipykernel)",
   "language": "python",
   "name": "python3"
  },
  "language_info": {
   "codemirror_mode": {
    "name": "ipython",
    "version": 3
   },
   "file_extension": ".py",
   "mimetype": "text/x-python",
   "name": "python",
   "nbconvert_exporter": "python",
   "pygments_lexer": "ipython3",
   "version": "3.11.10"
  }
 },
 "nbformat": 4,
 "nbformat_minor": 5
}
